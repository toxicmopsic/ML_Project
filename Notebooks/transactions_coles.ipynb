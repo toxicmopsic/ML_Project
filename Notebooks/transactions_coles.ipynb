{
  "nbformat": 4,
  "nbformat_minor": 0,
  "metadata": {
    "colab": {
      "provenance": []
    },
    "kernelspec": {
      "name": "python3",
      "display_name": "Python 3"
    },
    "language_info": {
      "name": "python"
    },
    "accelerator": "GPU",
    "gpuClass": "standard"
  },
  "cells": [
    {
      "cell_type": "code",
      "execution_count": 1,
      "metadata": {
        "colab": {
          "base_uri": "https://localhost:8080/",
          "height": 1000
        },
        "id": "Pv2wSvo5sBx3",
        "outputId": "c7de6707-5b53-48b7-f287-338ea60a7780"
      },
      "outputs": [
        {
          "output_type": "stream",
          "name": "stdout",
          "text": [
            "Looking in indexes: https://pypi.org/simple, https://us-python.pkg.dev/colab-wheels/public/simple/\n",
            "Collecting pytorch-lifestream\n",
            "  Downloading pytorch-lifestream-0.5.2.tar.gz (150 kB)\n",
            "\u001b[2K     \u001b[90m━━━━━━━━━━━━━━━━━━━━━━━━━━━━━━━━━━━━━━━\u001b[0m \u001b[32m150.3/150.3 KB\u001b[0m \u001b[31m4.6 MB/s\u001b[0m eta \u001b[36m0:00:00\u001b[0m\n",
            "\u001b[?25h  Installing build dependencies ... \u001b[?25l\u001b[?25hdone\n",
            "  Getting requirements to build wheel ... \u001b[?25l\u001b[?25hdone\n",
            "  Installing backend dependencies ... \u001b[?25l\u001b[?25hdone\n",
            "  Preparing metadata (pyproject.toml) ... \u001b[?25l\u001b[?25hdone\n",
            "Collecting hydra-core>=1.1.2\n",
            "  Downloading hydra_core-1.3.2-py3-none-any.whl (154 kB)\n",
            "\u001b[2K     \u001b[90m━━━━━━━━━━━━━━━━━━━━━━━━━━━━━━━━━━━━━━\u001b[0m \u001b[32m154.5/154.5 KB\u001b[0m \u001b[31m17.3 MB/s\u001b[0m eta \u001b[36m0:00:00\u001b[0m\n",
            "\u001b[?25hCollecting pytorch-lightning==1.6.*\n",
            "  Downloading pytorch_lightning-1.6.5-py3-none-any.whl (585 kB)\n",
            "\u001b[2K     \u001b[90m━━━━━━━━━━━━━━━━━━━━━━━━━━━━━━━━━━━━━━\u001b[0m \u001b[32m585.9/585.9 KB\u001b[0m \u001b[31m40.9 MB/s\u001b[0m eta \u001b[36m0:00:00\u001b[0m\n",
            "\u001b[?25hCollecting transformers==4.*\n",
            "  Downloading transformers-4.27.3-py3-none-any.whl (6.8 MB)\n",
            "\u001b[2K     \u001b[90m━━━━━━━━━━━━━━━━━━━━━━━━━━━━━━━━━━━━━━━━\u001b[0m \u001b[32m6.8/6.8 MB\u001b[0m \u001b[31m93.3 MB/s\u001b[0m eta \u001b[36m0:00:00\u001b[0m\n",
            "\u001b[?25hRequirement already satisfied: pyarrow>=7.0 in /usr/local/lib/python3.9/dist-packages (from pytorch-lifestream) (9.0.0)\n",
            "Requirement already satisfied: PyYAML>=5.4 in /usr/local/lib/python3.9/dist-packages (from pytorch-lightning==1.6.*->pytorch-lifestream) (6.0)\n",
            "Requirement already satisfied: torch>=1.8.* in /usr/local/lib/python3.9/dist-packages (from pytorch-lightning==1.6.*->pytorch-lifestream) (1.13.1+cu116)\n",
            "Requirement already satisfied: packaging>=17.0 in /usr/local/lib/python3.9/dist-packages (from pytorch-lightning==1.6.*->pytorch-lifestream) (23.0)\n",
            "Requirement already satisfied: tqdm>=4.57.0 in /usr/local/lib/python3.9/dist-packages (from pytorch-lightning==1.6.*->pytorch-lifestream) (4.65.0)\n",
            "Requirement already satisfied: typing-extensions>=4.0.0 in /usr/local/lib/python3.9/dist-packages (from pytorch-lightning==1.6.*->pytorch-lifestream) (4.5.0)\n",
            "Requirement already satisfied: protobuf<=3.20.1 in /usr/local/lib/python3.9/dist-packages (from pytorch-lightning==1.6.*->pytorch-lifestream) (3.19.6)\n",
            "Collecting torchmetrics>=0.4.1\n",
            "  Downloading torchmetrics-0.11.4-py3-none-any.whl (519 kB)\n",
            "\u001b[2K     \u001b[90m━━━━━━━━━━━━━━━━━━━━━━━━━━━━━━━━━━━━━━\u001b[0m \u001b[32m519.2/519.2 KB\u001b[0m \u001b[31m48.0 MB/s\u001b[0m eta \u001b[36m0:00:00\u001b[0m\n",
            "\u001b[?25hRequirement already satisfied: tensorboard>=2.2.0 in /usr/local/lib/python3.9/dist-packages (from pytorch-lightning==1.6.*->pytorch-lifestream) (2.11.2)\n",
            "Collecting pyDeprecate>=0.3.1\n",
            "  Downloading pyDeprecate-0.3.2-py3-none-any.whl (10 kB)\n",
            "Requirement already satisfied: fsspec[http]!=2021.06.0,>=2021.05.0 in /usr/local/lib/python3.9/dist-packages (from pytorch-lightning==1.6.*->pytorch-lifestream) (2023.3.0)\n",
            "Requirement already satisfied: numpy>=1.17.2 in /usr/local/lib/python3.9/dist-packages (from pytorch-lightning==1.6.*->pytorch-lifestream) (1.22.4)\n",
            "Collecting huggingface-hub<1.0,>=0.11.0\n",
            "  Downloading huggingface_hub-0.13.3-py3-none-any.whl (199 kB)\n",
            "\u001b[2K     \u001b[90m━━━━━━━━━━━━━━━━━━━━━━━━━━━━━━━━━━━━━━\u001b[0m \u001b[32m199.8/199.8 KB\u001b[0m \u001b[31m11.9 MB/s\u001b[0m eta \u001b[36m0:00:00\u001b[0m\n",
            "\u001b[?25hRequirement already satisfied: regex!=2019.12.17 in /usr/local/lib/python3.9/dist-packages (from transformers==4.*->pytorch-lifestream) (2022.10.31)\n",
            "Requirement already satisfied: filelock in /usr/local/lib/python3.9/dist-packages (from transformers==4.*->pytorch-lifestream) (3.10.0)\n",
            "Requirement already satisfied: requests in /usr/local/lib/python3.9/dist-packages (from transformers==4.*->pytorch-lifestream) (2.27.1)\n",
            "Collecting tokenizers!=0.11.3,<0.14,>=0.11.1\n",
            "  Downloading tokenizers-0.13.2-cp39-cp39-manylinux_2_17_x86_64.manylinux2014_x86_64.whl (7.6 MB)\n",
            "\u001b[2K     \u001b[90m━━━━━━━━━━━━━━━━━━━━━━━━━━━━━━━━━━━━━━━━\u001b[0m \u001b[32m7.6/7.6 MB\u001b[0m \u001b[31m68.7 MB/s\u001b[0m eta \u001b[36m0:00:00\u001b[0m\n",
            "\u001b[?25hCollecting antlr4-python3-runtime==4.9.*\n",
            "  Downloading antlr4-python3-runtime-4.9.3.tar.gz (117 kB)\n",
            "\u001b[2K     \u001b[90m━━━━━━━━━━━━━━━━━━━━━━━━━━━━━━━━━━━━━━━\u001b[0m \u001b[32m117.0/117.0 KB\u001b[0m \u001b[31m7.8 MB/s\u001b[0m eta \u001b[36m0:00:00\u001b[0m\n",
            "\u001b[?25h  Preparing metadata (setup.py) ... \u001b[?25l\u001b[?25hdone\n",
            "Collecting omegaconf<2.4,>=2.2\n",
            "  Downloading omegaconf-2.3.0-py3-none-any.whl (79 kB)\n",
            "\u001b[2K     \u001b[90m━━━━━━━━━━━━━━━━━━━━━━━━━━━━━━━━━━━━━━━━\u001b[0m \u001b[32m79.5/79.5 KB\u001b[0m \u001b[31m9.4 MB/s\u001b[0m eta \u001b[36m0:00:00\u001b[0m\n",
            "\u001b[?25hCollecting aiohttp!=4.0.0a0,!=4.0.0a1\n",
            "  Downloading aiohttp-3.8.4-cp39-cp39-manylinux_2_17_x86_64.manylinux2014_x86_64.whl (1.0 MB)\n",
            "\u001b[2K     \u001b[90m━━━━━━━━━━━━━━━━━━━━━━━━━━━━━━━━━━━━━━━━\u001b[0m \u001b[32m1.0/1.0 MB\u001b[0m \u001b[31m44.3 MB/s\u001b[0m eta \u001b[36m0:00:00\u001b[0m\n",
            "\u001b[?25hRequirement already satisfied: grpcio>=1.24.3 in /usr/local/lib/python3.9/dist-packages (from tensorboard>=2.2.0->pytorch-lightning==1.6.*->pytorch-lifestream) (1.51.3)\n",
            "Requirement already satisfied: tensorboard-plugin-wit>=1.6.0 in /usr/local/lib/python3.9/dist-packages (from tensorboard>=2.2.0->pytorch-lightning==1.6.*->pytorch-lifestream) (1.8.1)\n",
            "Requirement already satisfied: google-auth<3,>=1.6.3 in /usr/local/lib/python3.9/dist-packages (from tensorboard>=2.2.0->pytorch-lightning==1.6.*->pytorch-lifestream) (2.16.2)\n",
            "Requirement already satisfied: werkzeug>=1.0.1 in /usr/local/lib/python3.9/dist-packages (from tensorboard>=2.2.0->pytorch-lightning==1.6.*->pytorch-lifestream) (2.2.3)\n",
            "Requirement already satisfied: absl-py>=0.4 in /usr/local/lib/python3.9/dist-packages (from tensorboard>=2.2.0->pytorch-lightning==1.6.*->pytorch-lifestream) (1.4.0)\n",
            "Requirement already satisfied: setuptools>=41.0.0 in /usr/local/lib/python3.9/dist-packages (from tensorboard>=2.2.0->pytorch-lightning==1.6.*->pytorch-lifestream) (67.6.0)\n",
            "Requirement already satisfied: google-auth-oauthlib<0.5,>=0.4.1 in /usr/local/lib/python3.9/dist-packages (from tensorboard>=2.2.0->pytorch-lightning==1.6.*->pytorch-lifestream) (0.4.6)\n",
            "Requirement already satisfied: markdown>=2.6.8 in /usr/local/lib/python3.9/dist-packages (from tensorboard>=2.2.0->pytorch-lightning==1.6.*->pytorch-lifestream) (3.4.1)\n",
            "Requirement already satisfied: tensorboard-data-server<0.7.0,>=0.6.0 in /usr/local/lib/python3.9/dist-packages (from tensorboard>=2.2.0->pytorch-lightning==1.6.*->pytorch-lifestream) (0.6.1)\n",
            "Requirement already satisfied: wheel>=0.26 in /usr/local/lib/python3.9/dist-packages (from tensorboard>=2.2.0->pytorch-lightning==1.6.*->pytorch-lifestream) (0.40.0)\n",
            "Requirement already satisfied: urllib3<1.27,>=1.21.1 in /usr/local/lib/python3.9/dist-packages (from requests->transformers==4.*->pytorch-lifestream) (1.26.15)\n",
            "Requirement already satisfied: charset-normalizer~=2.0.0 in /usr/local/lib/python3.9/dist-packages (from requests->transformers==4.*->pytorch-lifestream) (2.0.12)\n",
            "Requirement already satisfied: certifi>=2017.4.17 in /usr/local/lib/python3.9/dist-packages (from requests->transformers==4.*->pytorch-lifestream) (2022.12.7)\n",
            "Requirement already satisfied: idna<4,>=2.5 in /usr/local/lib/python3.9/dist-packages (from requests->transformers==4.*->pytorch-lifestream) (3.4)\n",
            "Collecting frozenlist>=1.1.1\n",
            "  Downloading frozenlist-1.3.3-cp39-cp39-manylinux_2_5_x86_64.manylinux1_x86_64.manylinux_2_17_x86_64.manylinux2014_x86_64.whl (158 kB)\n",
            "\u001b[2K     \u001b[90m━━━━━━━━━━━━━━━━━━━━━━━━━━━━━━━━━━━━━━\u001b[0m \u001b[32m158.8/158.8 KB\u001b[0m \u001b[31m18.6 MB/s\u001b[0m eta \u001b[36m0:00:00\u001b[0m\n",
            "\u001b[?25hCollecting async-timeout<5.0,>=4.0.0a3\n",
            "  Downloading async_timeout-4.0.2-py3-none-any.whl (5.8 kB)\n",
            "Collecting aiosignal>=1.1.2\n",
            "  Downloading aiosignal-1.3.1-py3-none-any.whl (7.6 kB)\n",
            "Collecting multidict<7.0,>=4.5\n",
            "  Downloading multidict-6.0.4-cp39-cp39-manylinux_2_17_x86_64.manylinux2014_x86_64.whl (114 kB)\n",
            "\u001b[2K     \u001b[90m━━━━━━━━━━━━━━━━━━━━━━━━━━━━━━━━━━━━━━\u001b[0m \u001b[32m114.2/114.2 KB\u001b[0m \u001b[31m13.6 MB/s\u001b[0m eta \u001b[36m0:00:00\u001b[0m\n",
            "\u001b[?25hCollecting yarl<2.0,>=1.0\n",
            "  Downloading yarl-1.8.2-cp39-cp39-manylinux_2_17_x86_64.manylinux2014_x86_64.whl (264 kB)\n",
            "\u001b[2K     \u001b[90m━━━━━━━━━━━━━━━━━━━━━━━━━━━━━━━━━━━━━━\u001b[0m \u001b[32m264.6/264.6 KB\u001b[0m \u001b[31m28.2 MB/s\u001b[0m eta \u001b[36m0:00:00\u001b[0m\n",
            "\u001b[?25hRequirement already satisfied: attrs>=17.3.0 in /usr/local/lib/python3.9/dist-packages (from aiohttp!=4.0.0a0,!=4.0.0a1->fsspec[http]!=2021.06.0,>=2021.05.0->pytorch-lightning==1.6.*->pytorch-lifestream) (22.2.0)\n",
            "Requirement already satisfied: pyasn1-modules>=0.2.1 in /usr/local/lib/python3.9/dist-packages (from google-auth<3,>=1.6.3->tensorboard>=2.2.0->pytorch-lightning==1.6.*->pytorch-lifestream) (0.2.8)\n",
            "Requirement already satisfied: rsa<5,>=3.1.4 in /usr/local/lib/python3.9/dist-packages (from google-auth<3,>=1.6.3->tensorboard>=2.2.0->pytorch-lightning==1.6.*->pytorch-lifestream) (4.9)\n",
            "Requirement already satisfied: cachetools<6.0,>=2.0.0 in /usr/local/lib/python3.9/dist-packages (from google-auth<3,>=1.6.3->tensorboard>=2.2.0->pytorch-lightning==1.6.*->pytorch-lifestream) (5.3.0)\n",
            "Requirement already satisfied: six>=1.9.0 in /usr/local/lib/python3.9/dist-packages (from google-auth<3,>=1.6.3->tensorboard>=2.2.0->pytorch-lightning==1.6.*->pytorch-lifestream) (1.16.0)\n",
            "Requirement already satisfied: requests-oauthlib>=0.7.0 in /usr/local/lib/python3.9/dist-packages (from google-auth-oauthlib<0.5,>=0.4.1->tensorboard>=2.2.0->pytorch-lightning==1.6.*->pytorch-lifestream) (1.3.1)\n",
            "Requirement already satisfied: importlib-metadata>=4.4 in /usr/local/lib/python3.9/dist-packages (from markdown>=2.6.8->tensorboard>=2.2.0->pytorch-lightning==1.6.*->pytorch-lifestream) (6.1.0)\n",
            "Requirement already satisfied: MarkupSafe>=2.1.1 in /usr/local/lib/python3.9/dist-packages (from werkzeug>=1.0.1->tensorboard>=2.2.0->pytorch-lightning==1.6.*->pytorch-lifestream) (2.1.2)\n",
            "Requirement already satisfied: zipp>=0.5 in /usr/local/lib/python3.9/dist-packages (from importlib-metadata>=4.4->markdown>=2.6.8->tensorboard>=2.2.0->pytorch-lightning==1.6.*->pytorch-lifestream) (3.15.0)\n",
            "Requirement already satisfied: pyasn1<0.5.0,>=0.4.6 in /usr/local/lib/python3.9/dist-packages (from pyasn1-modules>=0.2.1->google-auth<3,>=1.6.3->tensorboard>=2.2.0->pytorch-lightning==1.6.*->pytorch-lifestream) (0.4.8)\n",
            "Requirement already satisfied: oauthlib>=3.0.0 in /usr/local/lib/python3.9/dist-packages (from requests-oauthlib>=0.7.0->google-auth-oauthlib<0.5,>=0.4.1->tensorboard>=2.2.0->pytorch-lightning==1.6.*->pytorch-lifestream) (3.2.2)\n",
            "Building wheels for collected packages: pytorch-lifestream, antlr4-python3-runtime\n",
            "  Building wheel for pytorch-lifestream (pyproject.toml) ... \u001b[?25l\u001b[?25hdone\n",
            "  Created wheel for pytorch-lifestream: filename=pytorch_lifestream-0.5.2-py3-none-any.whl size=256980 sha256=e7d36b1fe5eec0c48db1f69c7b3ba601e3445deedd13fbd860139f5ccc0567f3\n",
            "  Stored in directory: /root/.cache/pip/wheels/07/3c/f7/565354c0a36c9f9cd0084237bcb8d36697554d25cc7d9a1ae1\n",
            "  Building wheel for antlr4-python3-runtime (setup.py) ... \u001b[?25l\u001b[?25hdone\n",
            "  Created wheel for antlr4-python3-runtime: filename=antlr4_python3_runtime-4.9.3-py3-none-any.whl size=144573 sha256=d6adffee6332b77c149fec4c3a7be9c90a12dd4380cff3eeb3a39a49384df63a\n",
            "  Stored in directory: /root/.cache/pip/wheels/23/cf/80/f3efa822e6ab23277902ee9165fe772eeb1dfb8014f359020a\n",
            "Successfully built pytorch-lifestream antlr4-python3-runtime\n",
            "Installing collected packages: tokenizers, antlr4-python3-runtime, pyDeprecate, omegaconf, multidict, frozenlist, async-timeout, yarl, torchmetrics, hydra-core, huggingface-hub, aiosignal, transformers, aiohttp, pytorch-lightning, pytorch-lifestream\n",
            "Successfully installed aiohttp-3.8.4 aiosignal-1.3.1 antlr4-python3-runtime-4.9.3 async-timeout-4.0.2 frozenlist-1.3.3 huggingface-hub-0.13.3 hydra-core-1.3.2 multidict-6.0.4 omegaconf-2.3.0 pyDeprecate-0.3.2 pytorch-lifestream-0.5.2 pytorch-lightning-1.6.5 tokenizers-0.13.2 torchmetrics-0.11.4 transformers-4.27.3 yarl-1.8.2\n"
          ]
        },
        {
          "output_type": "display_data",
          "data": {
            "application/vnd.colab-display-data+json": {
              "pip_warning": {
                "packages": [
                  "pydevd_plugins"
                ]
              }
            }
          },
          "metadata": {}
        }
      ],
      "source": [
        "if 'google.colab' in str(get_ipython()):\n",
        "    !pip install pytorch-lifestream"
      ]
    },
    {
      "cell_type": "code",
      "source": [
        "import os\n",
        "import pandas as pd\n",
        "import torch"
      ],
      "metadata": {
        "id": "4nn9Vk0pspEb"
      },
      "execution_count": 2,
      "outputs": []
    },
    {
      "cell_type": "code",
      "source": [
        "if not os.path.exists('data/transactions.csv'):\n",
        "    ! mkdir -p data\n",
        "    ! curl -OL https://storage.yandexcloud.net/datasouls-ods/materials/0433a4ca/transactions.zip\n",
        "    ! unzip -j -o transactions.zip '*.csv' -d data\n",
        "    ! mv transactions.zip data/\n",
        "\n",
        "if not os.path.exists('data/education.csv'):\n",
        "    ! mkdir -p data\n",
        "    ! curl -OL https://storage.yandexcloud.net/datasouls-ods/materials/e756bf99/train.csv\n",
        "    #! unzip -j -o transactions.zip '*.csv' -d data\n",
        "    ! mv train.csv data/\n",
        "\n",
        "\n",
        "print(f'Loaded csv files')"
      ],
      "metadata": {
        "colab": {
          "base_uri": "https://localhost:8080/"
        },
        "id": "VFlF3hpZsYrv",
        "outputId": "755b387e-fb63-43f0-d871-f6f162c65ba4"
      },
      "execution_count": 3,
      "outputs": [
        {
          "output_type": "stream",
          "name": "stdout",
          "text": [
            "  % Total    % Received % Xferd  Average Speed   Time    Time     Time  Current\n",
            "                                 Dload  Upload   Total   Spent    Left  Speed\n",
            "100  250M  100  250M    0     0  14.3M      0  0:00:17  0:00:17 --:--:-- 14.6M\n",
            "Archive:  transactions.zip\n",
            "  inflating: data/transactions.csv   \n",
            "  inflating: data/._transactions.csv  \n",
            "  % Total    % Received % Xferd  Average Speed   Time    Time     Time  Current\n",
            "                                 Dload  Upload   Total   Spent    Left  Speed\n",
            "100  307k  100  307k    0     0   210k      0  0:00:01  0:00:01 --:--:--  210k\n",
            "Loaded csv files\n"
          ]
        }
      ]
    },
    {
      "cell_type": "code",
      "source": [
        "def trx_types(df):\n",
        "    df['mcc_code'] = df['mcc_code'].astype(str)\n",
        "    df['currency_rk'] = df['currency_rk'].astype(str)\n",
        "    df['event_time'] = pd.to_datetime(df['transaction_dttm']).astype(int) / 1e9\n",
        "    return df[['user_id', 'event_time', 'mcc_code', 'currency_rk', 'transaction_amt']]\n",
        "\n",
        "\n",
        "def click_types(df):\n",
        "    df['event_time'] = pd.to_datetime(df['timestamp']).astype(int) / 1e9\n",
        "    # df = pd.merge(df, click_categories, on='cat_id')\n",
        "    df['cat_id'] = df['cat_id'].astype(str)\n",
        "    return df[['user_id', 'event_time', 'cat_id', 'new_uid']]\n"
      ],
      "metadata": {
        "id": "YOQTQI5f1LqD"
      },
      "execution_count": 4,
      "outputs": []
    },
    {
      "cell_type": "code",
      "source": [
        "\n",
        "data_path = 'data/'"
      ],
      "metadata": {
        "id": "CyVbyt24usG1"
      },
      "execution_count": 5,
      "outputs": []
    },
    {
      "cell_type": "code",
      "source": [
        "%%time\n",
        "target = pd.read_csv(os.path.join(data_path, 'train.csv'))"
      ],
      "metadata": {
        "colab": {
          "base_uri": "https://localhost:8080/"
        },
        "id": "O8RlIyvip5iU",
        "outputId": "59789f1d-a81c-472c-fe3f-bbae6b9ed1cf"
      },
      "execution_count": 6,
      "outputs": [
        {
          "output_type": "stream",
          "name": "stdout",
          "text": [
            "CPU times: user 10.2 ms, sys: 4.1 ms, total: 14.3 ms\n",
            "Wall time: 19.4 ms\n"
          ]
        }
      ]
    },
    {
      "cell_type": "markdown",
      "source": [
        "# Transactions preprocessing"
      ],
      "metadata": {
        "id": "mGxVog0Zsc4r"
      }
    },
    {
      "cell_type": "code",
      "source": [
        "%%time\n",
        "transactions = pd.read_csv(os.path.join(data_path, 'transactions.csv'))\n",
        "transactions = transactions.dropna()\n",
        "transactions = trx_types(transactions)"
      ],
      "metadata": {
        "colab": {
          "base_uri": "https://localhost:8080/"
        },
        "id": "H2HGVEELEkiz",
        "outputId": "3b262539-ab86-466b-8244-4b94dd47c2b3"
      },
      "execution_count": 7,
      "outputs": [
        {
          "output_type": "stream",
          "name": "stdout",
          "text": [
            "CPU times: user 47 s, sys: 7.13 s, total: 54.1 s\n",
            "Wall time: 54 s\n"
          ]
        }
      ]
    },
    {
      "cell_type": "code",
      "source": [
        "transactions.head(2)"
      ],
      "metadata": {
        "colab": {
          "base_uri": "https://localhost:8080/",
          "height": 112
        },
        "id": "F-AicKZLs6X8",
        "outputId": "95afebab-ece3-4aa0-bc85-c078f1b80a16"
      },
      "execution_count": 8,
      "outputs": [
        {
          "output_type": "execute_result",
          "data": {
            "text/plain": [
              "                            user_id    event_time mcc_code currency_rk  \\\n",
              "0  000932580e404dafbecd5916d4640938  1.596442e+09     5411          48   \n",
              "1  000932580e404dafbecd5916d4640938  1.596591e+09     5499          48   \n",
              "\n",
              "   transaction_amt  \n",
              "0       -361.07230  \n",
              "1       -137.31398  "
            ],
            "text/html": [
              "\n",
              "  <div id=\"df-a01f82f5-5493-4cd3-8da2-a45fddfea314\">\n",
              "    <div class=\"colab-df-container\">\n",
              "      <div>\n",
              "<style scoped>\n",
              "    .dataframe tbody tr th:only-of-type {\n",
              "        vertical-align: middle;\n",
              "    }\n",
              "\n",
              "    .dataframe tbody tr th {\n",
              "        vertical-align: top;\n",
              "    }\n",
              "\n",
              "    .dataframe thead th {\n",
              "        text-align: right;\n",
              "    }\n",
              "</style>\n",
              "<table border=\"1\" class=\"dataframe\">\n",
              "  <thead>\n",
              "    <tr style=\"text-align: right;\">\n",
              "      <th></th>\n",
              "      <th>user_id</th>\n",
              "      <th>event_time</th>\n",
              "      <th>mcc_code</th>\n",
              "      <th>currency_rk</th>\n",
              "      <th>transaction_amt</th>\n",
              "    </tr>\n",
              "  </thead>\n",
              "  <tbody>\n",
              "    <tr>\n",
              "      <th>0</th>\n",
              "      <td>000932580e404dafbecd5916d4640938</td>\n",
              "      <td>1.596442e+09</td>\n",
              "      <td>5411</td>\n",
              "      <td>48</td>\n",
              "      <td>-361.07230</td>\n",
              "    </tr>\n",
              "    <tr>\n",
              "      <th>1</th>\n",
              "      <td>000932580e404dafbecd5916d4640938</td>\n",
              "      <td>1.596591e+09</td>\n",
              "      <td>5499</td>\n",
              "      <td>48</td>\n",
              "      <td>-137.31398</td>\n",
              "    </tr>\n",
              "  </tbody>\n",
              "</table>\n",
              "</div>\n",
              "      <button class=\"colab-df-convert\" onclick=\"convertToInteractive('df-a01f82f5-5493-4cd3-8da2-a45fddfea314')\"\n",
              "              title=\"Convert this dataframe to an interactive table.\"\n",
              "              style=\"display:none;\">\n",
              "        \n",
              "  <svg xmlns=\"http://www.w3.org/2000/svg\" height=\"24px\"viewBox=\"0 0 24 24\"\n",
              "       width=\"24px\">\n",
              "    <path d=\"M0 0h24v24H0V0z\" fill=\"none\"/>\n",
              "    <path d=\"M18.56 5.44l.94 2.06.94-2.06 2.06-.94-2.06-.94-.94-2.06-.94 2.06-2.06.94zm-11 1L8.5 8.5l.94-2.06 2.06-.94-2.06-.94L8.5 2.5l-.94 2.06-2.06.94zm10 10l.94 2.06.94-2.06 2.06-.94-2.06-.94-.94-2.06-.94 2.06-2.06.94z\"/><path d=\"M17.41 7.96l-1.37-1.37c-.4-.4-.92-.59-1.43-.59-.52 0-1.04.2-1.43.59L10.3 9.45l-7.72 7.72c-.78.78-.78 2.05 0 2.83L4 21.41c.39.39.9.59 1.41.59.51 0 1.02-.2 1.41-.59l7.78-7.78 2.81-2.81c.8-.78.8-2.07 0-2.86zM5.41 20L4 18.59l7.72-7.72 1.47 1.35L5.41 20z\"/>\n",
              "  </svg>\n",
              "      </button>\n",
              "      \n",
              "  <style>\n",
              "    .colab-df-container {\n",
              "      display:flex;\n",
              "      flex-wrap:wrap;\n",
              "      gap: 12px;\n",
              "    }\n",
              "\n",
              "    .colab-df-convert {\n",
              "      background-color: #E8F0FE;\n",
              "      border: none;\n",
              "      border-radius: 50%;\n",
              "      cursor: pointer;\n",
              "      display: none;\n",
              "      fill: #1967D2;\n",
              "      height: 32px;\n",
              "      padding: 0 0 0 0;\n",
              "      width: 32px;\n",
              "    }\n",
              "\n",
              "    .colab-df-convert:hover {\n",
              "      background-color: #E2EBFA;\n",
              "      box-shadow: 0px 1px 2px rgba(60, 64, 67, 0.3), 0px 1px 3px 1px rgba(60, 64, 67, 0.15);\n",
              "      fill: #174EA6;\n",
              "    }\n",
              "\n",
              "    [theme=dark] .colab-df-convert {\n",
              "      background-color: #3B4455;\n",
              "      fill: #D2E3FC;\n",
              "    }\n",
              "\n",
              "    [theme=dark] .colab-df-convert:hover {\n",
              "      background-color: #434B5C;\n",
              "      box-shadow: 0px 1px 3px 1px rgba(0, 0, 0, 0.15);\n",
              "      filter: drop-shadow(0px 1px 2px rgba(0, 0, 0, 0.3));\n",
              "      fill: #FFFFFF;\n",
              "    }\n",
              "  </style>\n",
              "\n",
              "      <script>\n",
              "        const buttonEl =\n",
              "          document.querySelector('#df-a01f82f5-5493-4cd3-8da2-a45fddfea314 button.colab-df-convert');\n",
              "        buttonEl.style.display =\n",
              "          google.colab.kernel.accessAllowed ? 'block' : 'none';\n",
              "\n",
              "        async function convertToInteractive(key) {\n",
              "          const element = document.querySelector('#df-a01f82f5-5493-4cd3-8da2-a45fddfea314');\n",
              "          const dataTable =\n",
              "            await google.colab.kernel.invokeFunction('convertToInteractive',\n",
              "                                                     [key], {});\n",
              "          if (!dataTable) return;\n",
              "\n",
              "          const docLinkHtml = 'Like what you see? Visit the ' +\n",
              "            '<a target=\"_blank\" href=https://colab.research.google.com/notebooks/data_table.ipynb>data table notebook</a>'\n",
              "            + ' to learn more about interactive tables.';\n",
              "          element.innerHTML = '';\n",
              "          dataTable['output_type'] = 'display_data';\n",
              "          await google.colab.output.renderOutput(dataTable, element);\n",
              "          const docLink = document.createElement('div');\n",
              "          docLink.innerHTML = docLinkHtml;\n",
              "          element.appendChild(docLink);\n",
              "        }\n",
              "      </script>\n",
              "    </div>\n",
              "  </div>\n",
              "  "
            ]
          },
          "metadata": {},
          "execution_count": 8
        }
      ]
    },
    {
      "cell_type": "code",
      "source": [
        "from ptls.preprocessing import PandasDataPreprocessor\n",
        "\n",
        "preprocessor_trx = PandasDataPreprocessor(\n",
        "    col_id='user_id',\n",
        "    col_event_time='event_time',\n",
        "    event_time_transformation='none',\n",
        "    cols_category=[\"mcc_code\", \"currency_rk\"],\n",
        "    cols_numerical=[\"transaction_amt\"],\n",
        "    return_records=True,\n",
        ")"
      ],
      "metadata": {
        "id": "PlJvVf48snQ2"
      },
      "execution_count": 9,
      "outputs": []
    },
    {
      "cell_type": "code",
      "source": [
        "\n",
        "%%time\n",
        "dataset_transactions = preprocessor_trx.fit_transform(transactions)\n",
        "print(f'Transactions features prepared')"
      ],
      "metadata": {
        "id": "76Fk5X7OtDvm",
        "colab": {
          "base_uri": "https://localhost:8080/"
        },
        "outputId": "9e465c25-aba0-4a42-cda1-58612a477bb9"
      },
      "execution_count": 10,
      "outputs": [
        {
          "output_type": "stream",
          "name": "stdout",
          "text": [
            "Transactions features prepared\n",
            "CPU times: user 50.3 s, sys: 8.83 s, total: 59.1 s\n",
            "Wall time: 1min 1s\n"
          ]
        }
      ]
    },
    {
      "cell_type": "code",
      "source": [
        "del preprocessor_trx\n",
        "del transactions"
      ],
      "metadata": {
        "id": "_iu0tYQKd67y"
      },
      "execution_count": 11,
      "outputs": []
    },
    {
      "cell_type": "markdown",
      "source": [
        "# Encoding"
      ],
      "metadata": {
        "id": "bOtVh4E_C77S"
      }
    },
    {
      "cell_type": "code",
      "source": [
        "dataset_transactions = sorted(dataset_transactions, key=lambda x: x['user_id'])"
      ],
      "metadata": {
        "id": "XQIk6yp4C_FN"
      },
      "execution_count": 12,
      "outputs": []
    },
    {
      "cell_type": "code",
      "source": [
        "from sklearn.model_selection import train_test_split\n",
        "\n",
        "train, test = train_test_split(dataset_transactions, test_size=0.2, random_state=42)\n",
        "\n",
        "len(train), len(test)"
      ],
      "metadata": {
        "id": "8KbMv-BwELyF",
        "colab": {
          "base_uri": "https://localhost:8080/"
        },
        "outputId": "83917e90-8211-49cc-911c-b37ec3d931b3"
      },
      "execution_count": 13,
      "outputs": [
        {
          "output_type": "execute_result",
          "data": {
            "text/plain": [
              "(18026, 4507)"
            ]
          },
          "metadata": {},
          "execution_count": 13
        }
      ]
    },
    {
      "cell_type": "code",
      "source": [
        "train[0].keys()"
      ],
      "metadata": {
        "id": "4zEsuBltZ9bd",
        "colab": {
          "base_uri": "https://localhost:8080/"
        },
        "outputId": "2847ff24-06ed-4aaa-a453-c21439d5af78"
      },
      "execution_count": 14,
      "outputs": [
        {
          "output_type": "execute_result",
          "data": {
            "text/plain": [
              "dict_keys(['user_id', 'event_time', 'mcc_code', 'currency_rk', 'transaction_amt'])"
            ]
          },
          "metadata": {},
          "execution_count": 14
        }
      ]
    },
    {
      "cell_type": "markdown",
      "source": [
        "### Model definition"
      ],
      "metadata": {
        "id": "KvNVC-nqfeQS"
      }
    },
    {
      "cell_type": "code",
      "source": [
        "from functools import partial\n",
        "from ptls.nn import TrxEncoder, RnnSeqEncoder\n",
        "from ptls.frames.coles import CoLESModule\n",
        "\n",
        "trx_encoder_params = dict(\n",
        "    embeddings_noise=0.003,\n",
        "    numeric_values={},\n",
        "    embeddings={\n",
        "        'currency_rk': {'in': 200, 'out': 48},\n",
        "        'mcc_code': {'in': 100, 'out': 24}\n",
        "    },\n",
        ")\n",
        "\n",
        "\n",
        "seq_encoder = RnnSeqEncoder(\n",
        "    trx_encoder=TrxEncoder(**trx_encoder_params),\n",
        "    hidden_size=256,\n",
        "    type='gru',\n",
        ")\n",
        "\n",
        "model = CoLESModule(\n",
        "    seq_encoder=seq_encoder,\n",
        "    optimizer_partial=partial(torch.optim.Adam, lr=0.001),\n",
        "    lr_scheduler_partial=partial(torch.optim.lr_scheduler.StepLR, step_size=30, gamma=0.9),\n",
        ")"
      ],
      "metadata": {
        "id": "kJSl-e6ZfLT4"
      },
      "execution_count": 19,
      "outputs": []
    },
    {
      "cell_type": "code",
      "source": [
        "from ptls.data_load.datasets import MemoryMapDataset\n",
        "from ptls.data_load.iterable_processing import SeqLenFilter\n",
        "from ptls.frames.coles import ColesDataset\n",
        "from ptls.frames.coles.split_strategy import SampleSlices\n",
        "from ptls.frames import PtlsDataModule\n",
        "\n",
        "train_dl = PtlsDataModule(\n",
        "    train_data=ColesDataset(\n",
        "        MemoryMapDataset(\n",
        "            data=train,\n",
        "            i_filters=[\n",
        "                SeqLenFilter(min_seq_len=25),\n",
        "            ],\n",
        "        ),\n",
        "        splitter=SampleSlices(\n",
        "            split_count=5,\n",
        "            cnt_min=25,\n",
        "            cnt_max=200,\n",
        "        ),\n",
        "    ),\n",
        "    train_num_workers=16,\n",
        "    train_batch_size=256,\n",
        ")"
      ],
      "metadata": {
        "id": "kK71AUV4fm2P"
      },
      "execution_count": 20,
      "outputs": []
    },
    {
      "cell_type": "code",
      "source": [
        "import torch\n",
        "import pytorch_lightning as pl\n",
        "\n",
        "import logging\n",
        "\n",
        "trainer = pl.Trainer(\n",
        "    max_epochs=15,\n",
        "    gpus=1 if torch.cuda.is_available() else 0,\n",
        "    enable_progress_bar=False,\n",
        ")"
      ],
      "metadata": {
        "id": "PbNJRDYWfs8w",
        "colab": {
          "base_uri": "https://localhost:8080/"
        },
        "outputId": "3d0d9a5b-74cb-4abf-8bdc-89934815d8ae"
      },
      "execution_count": 21,
      "outputs": [
        {
          "output_type": "stream",
          "name": "stderr",
          "text": [
            "INFO:pytorch_lightning.utilities.rank_zero:GPU available: True, used: True\n",
            "INFO:pytorch_lightning.utilities.rank_zero:TPU available: False, using: 0 TPU cores\n",
            "INFO:pytorch_lightning.utilities.rank_zero:IPU available: False, using: 0 IPUs\n",
            "INFO:pytorch_lightning.utilities.rank_zero:HPU available: False, using: 0 HPUs\n"
          ]
        }
      ]
    },
    {
      "cell_type": "code",
      "source": [
        "%%time\n",
        "print(f'logger.version = {trainer.logger.version}')\n",
        "trainer.fit(model, train_dl)\n",
        "print(trainer.logged_metrics)"
      ],
      "metadata": {
        "id": "I4hSO6B7fzc3",
        "colab": {
          "base_uri": "https://localhost:8080/"
        },
        "outputId": "751061a7-59bf-4d3d-be57-990ded42686d"
      },
      "execution_count": 22,
      "outputs": [
        {
          "output_type": "stream",
          "name": "stderr",
          "text": [
            "INFO:pytorch_lightning.accelerators.gpu:LOCAL_RANK: 0 - CUDA_VISIBLE_DEVICES: [0]\n",
            "INFO:pytorch_lightning.callbacks.model_summary:\n",
            "  | Name               | Type            | Params\n",
            "-------------------------------------------------------\n",
            "0 | _loss              | ContrastiveLoss | 0     \n",
            "1 | _seq_encoder       | RnnSeqEncoder   | 265 K \n",
            "2 | _validation_metric | BatchRecallTopK | 0     \n",
            "3 | _head              | Head            | 0     \n",
            "-------------------------------------------------------\n",
            "265 K     Trainable params\n",
            "0         Non-trainable params\n",
            "265 K     Total params\n",
            "1.063     Total estimated model params size (MB)\n"
          ]
        },
        {
          "output_type": "stream",
          "name": "stdout",
          "text": [
            "logger.version = 1\n",
            "{'loss': tensor(141.3889), 'seq_len': tensor(112.6321)}\n",
            "CPU times: user 4min 3s, sys: 37.4 s, total: 4min 41s\n",
            "Wall time: 6min 57s\n"
          ]
        }
      ]
    },
    {
      "cell_type": "code",
      "source": [
        "# torch.save(seq_encoder.state_dict(), \"coles-emb.pt\")"
      ],
      "metadata": {
        "id": "6hdSd0Jcf3Qc"
      },
      "execution_count": 23,
      "outputs": []
    },
    {
      "cell_type": "code",
      "source": [
        "# embedding inference\n",
        "\n",
        "from ptls.data_load.datasets import inference_data_loader\n",
        "\n",
        "train_dl = inference_data_loader(train, num_workers=0, batch_size=256)\n",
        "train_embeds = torch.vstack(trainer.predict(model, train_dl, ))\n",
        "\n",
        "test_dl = inference_data_loader(test, num_workers=0, batch_size=256)\n",
        "test_embeds = torch.vstack(trainer.predict(model, test_dl))\n",
        "\n",
        "train_embeds.shape, test_embeds.shape"
      ],
      "metadata": {
        "id": "pd7NjMfJitqH",
        "colab": {
          "base_uri": "https://localhost:8080/"
        },
        "outputId": "34f12db3-6f8d-4f11-fe60-74b22c849c20"
      },
      "execution_count": 24,
      "outputs": [
        {
          "output_type": "stream",
          "name": "stderr",
          "text": [
            "INFO:pytorch_lightning.accelerators.gpu:LOCAL_RANK: 0 - CUDA_VISIBLE_DEVICES: [0]\n",
            "/usr/local/lib/python3.9/dist-packages/pytorch_lightning/loops/epoch/prediction_epoch_loop.py:175: UserWarning: Lightning couldn't infer the indices fetched for your dataloader.\n",
            "  warning_cache.warn(\"Lightning couldn't infer the indices fetched for your dataloader.\")\n",
            "INFO:pytorch_lightning.accelerators.gpu:LOCAL_RANK: 0 - CUDA_VISIBLE_DEVICES: [0]\n"
          ]
        },
        {
          "output_type": "execute_result",
          "data": {
            "text/plain": [
              "(torch.Size([18026, 256]), torch.Size([4507, 256]))"
            ]
          },
          "metadata": {},
          "execution_count": 24
        }
      ]
    },
    {
      "cell_type": "code",
      "source": [
        "# join target and embeddings\n",
        "\n",
        "df_target = pd.read_csv(os.path.join(data_path, 'train.csv'))\n",
        "df_target.rename(columns={\"bank\": \"user_id\"}, inplace=True)\n",
        "df_target = df_target.set_index('user_id')\n",
        "df_target.rename(columns={\"higher_education\": \"target\"}, inplace=True)\n",
        "\n",
        "train_df = pd.DataFrame(data=train_embeds, columns=[f'embed_{i}' for i in range(train_embeds.shape[1])])\n",
        "train_df['user_id'] = [x['user_id'] for x in train]\n",
        "# train_df = train_df.merge(df_target, how='left', on='user_id')\n",
        "train_df = train_df.merge(df_target, on='user_id')\n",
        "\n",
        "test_df = pd.DataFrame(data=test_embeds, columns=[f'embed_{i}' for i in range(test_embeds.shape[1])])\n",
        "test_df['user_id'] = [x['user_id'] for x in test]\n",
        "# test_df = test_df.merge(df_target, how='left', on='user_id')\n",
        "test_df = test_df.merge(df_target, on='user_id')\n",
        "print(train_df.shape, test_df.shape)"
      ],
      "metadata": {
        "id": "KB-Kui_XmlIN",
        "colab": {
          "base_uri": "https://localhost:8080/"
        },
        "outputId": "8dae2d51-2b0d-4bd6-a7a0-5239e00d1f00"
      },
      "execution_count": 25,
      "outputs": [
        {
          "output_type": "stream",
          "name": "stdout",
          "text": [
            "(6838, 258) (1671, 258)\n"
          ]
        }
      ]
    },
    {
      "cell_type": "code",
      "source": [
        "\n",
        "from sklearn.ensemble import RandomForestClassifier\n",
        "\n",
        "embed_columns = [x for x in train_df.columns if x.startswith('embed')]\n",
        "x_train, y_train = train_df[embed_columns], train_df['target']\n",
        "x_test, y_test = test_df[embed_columns], test_df['target']\n",
        "\n",
        "clf = RandomForestClassifier()\n",
        "clf.fit(x_train, y_train)\n",
        "clf.score(x_test, y_test)"
      ],
      "metadata": {
        "id": "Azj2FjIzmtLK",
        "colab": {
          "base_uri": "https://localhost:8080/"
        },
        "outputId": "ee742a83-1eed-479d-e0c5-197a1e014be9"
      },
      "execution_count": 26,
      "outputs": [
        {
          "output_type": "execute_result",
          "data": {
            "text/plain": [
              "0.7636146020347098"
            ]
          },
          "metadata": {},
          "execution_count": 26
        }
      ]
    },
    {
      "cell_type": "code",
      "source": [
        "from sklearn.metrics import accuracy_score, precision_score, recall_score, f1_score, roc_auc_score\n",
        "y_pred = clf.predict(x_test)\n",
        "print(\"accuracy score:\", accuracy_score(y_test, y_pred))\n",
        "print(\"precision score:\", precision_score(y_test, y_pred))\n",
        "print(\"recall score:\", recall_score(y_test, y_pred))\n",
        "print(\"f1 score:\", f1_score(y_test, y_pred))\n",
        "print(\"roc auc_score:\", roc_auc_score(y_test, y_pred))"
      ],
      "metadata": {
        "id": "5p5zZzQiolHy",
        "colab": {
          "base_uri": "https://localhost:8080/"
        },
        "outputId": "e9dcb233-dcba-4872-fb0c-f6ac172b44d5"
      },
      "execution_count": 27,
      "outputs": [
        {
          "output_type": "stream",
          "name": "stdout",
          "text": [
            "accuracy score: 0.7636146020347098\n",
            "precision score: 0.7899794097460535\n",
            "recall score: 0.9282258064516129\n",
            "f1 score: 0.8535409714497589\n",
            "roc auc_score: 0.6091245041538806\n"
          ]
        }
      ]
    },
    {
      "cell_type": "code",
      "source": [],
      "metadata": {
        "id": "yJLmQPwSxUuQ"
      },
      "execution_count": null,
      "outputs": []
    }
  ]
}